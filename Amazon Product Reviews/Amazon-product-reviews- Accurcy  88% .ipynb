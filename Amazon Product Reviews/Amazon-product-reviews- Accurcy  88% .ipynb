{
 "cells": [
  {
   "cell_type": "markdown",
   "metadata": {},
   "source": [
    "## IMPORT LIBRARIES"
   ]
  },
  {
   "cell_type": "code",
   "execution_count": 1,
   "metadata": {
    "execution": {
     "iopub.execute_input": "2024-05-06T14:37:17.436371Z",
     "iopub.status.busy": "2024-05-06T14:37:17.435610Z",
     "iopub.status.idle": "2024-05-06T14:37:19.528613Z",
     "shell.execute_reply": "2024-05-06T14:37:19.527725Z",
     "shell.execute_reply.started": "2024-05-06T14:37:17.436327Z"
    }
   },
   "outputs": [
    {
     "name": "stderr",
     "output_type": "stream",
     "text": [
      "[nltk_data] Downloading package stopwords to\n",
      "[nltk_data]     C:\\Users\\Abhi\\AppData\\Roaming\\nltk_data...\n",
      "[nltk_data]   Package stopwords is already up-to-date!\n"
     ]
    },
    {
     "data": {
      "text/plain": [
       "True"
      ]
     },
     "execution_count": 1,
     "metadata": {},
     "output_type": "execute_result"
    }
   ],
   "source": [
    "import warnings\n",
    "warnings.filterwarnings('ignore')\n",
    "import pandas as pd\n",
    "import numpy as np\n",
    "import matplotlib.pyplot as plt\n",
    "import seaborn as sns\n",
    "\n",
    "from sklearn.model_selection import train_test_split\n",
    "import nltk\n",
    "from nltk.corpus import stopwords\n",
    "nltk.download('stopwords')\n"
   ]
  },
  {
   "cell_type": "markdown",
   "metadata": {},
   "source": [
    "## *READ DATASETS*"
   ]
  },
  {
   "cell_type": "code",
   "execution_count": 2,
   "metadata": {
    "execution": {
     "iopub.execute_input": "2024-05-06T14:37:19.530252Z",
     "iopub.status.busy": "2024-05-06T14:37:19.529889Z",
     "iopub.status.idle": "2024-05-06T14:37:19.628509Z",
     "shell.execute_reply": "2024-05-06T14:37:19.627523Z",
     "shell.execute_reply.started": "2024-05-06T14:37:19.530220Z"
    }
   },
   "outputs": [],
   "source": [
    "data=pd.read_csv('amazon.csv')"
   ]
  },
  {
   "cell_type": "code",
   "execution_count": 3,
   "metadata": {
    "execution": {
     "iopub.execute_input": "2024-05-06T14:37:19.630976Z",
     "iopub.status.busy": "2024-05-06T14:37:19.630636Z",
     "iopub.status.idle": "2024-05-06T14:37:19.647536Z",
     "shell.execute_reply": "2024-05-06T14:37:19.646652Z",
     "shell.execute_reply.started": "2024-05-06T14:37:19.630951Z"
    }
   },
   "outputs": [
    {
     "data": {
      "text/html": [
       "<div>\n",
       "<style scoped>\n",
       "    .dataframe tbody tr th:only-of-type {\n",
       "        vertical-align: middle;\n",
       "    }\n",
       "\n",
       "    .dataframe tbody tr th {\n",
       "        vertical-align: top;\n",
       "    }\n",
       "\n",
       "    .dataframe thead th {\n",
       "        text-align: right;\n",
       "    }\n",
       "</style>\n",
       "<table border=\"1\" class=\"dataframe\">\n",
       "  <thead>\n",
       "    <tr style=\"text-align: right;\">\n",
       "      <th></th>\n",
       "      <th>Text</th>\n",
       "      <th>label</th>\n",
       "    </tr>\n",
       "  </thead>\n",
       "  <tbody>\n",
       "    <tr>\n",
       "      <th>0</th>\n",
       "      <td>This is  the best apps acording to a bunch of ...</td>\n",
       "      <td>1</td>\n",
       "    </tr>\n",
       "    <tr>\n",
       "      <th>1</th>\n",
       "      <td>This is a pretty good version of the game for ...</td>\n",
       "      <td>1</td>\n",
       "    </tr>\n",
       "    <tr>\n",
       "      <th>2</th>\n",
       "      <td>this is a really . there are a bunch of levels...</td>\n",
       "      <td>1</td>\n",
       "    </tr>\n",
       "    <tr>\n",
       "      <th>3</th>\n",
       "      <td>This is a silly game and can be frustrating, b...</td>\n",
       "      <td>1</td>\n",
       "    </tr>\n",
       "    <tr>\n",
       "      <th>4</th>\n",
       "      <td>This is a terrific game on any pad. Hrs of fun...</td>\n",
       "      <td>1</td>\n",
       "    </tr>\n",
       "  </tbody>\n",
       "</table>\n",
       "</div>"
      ],
      "text/plain": [
       "                                                Text  label\n",
       "0  This is  the best apps acording to a bunch of ...      1\n",
       "1  This is a pretty good version of the game for ...      1\n",
       "2  this is a really . there are a bunch of levels...      1\n",
       "3  This is a silly game and can be frustrating, b...      1\n",
       "4  This is a terrific game on any pad. Hrs of fun...      1"
      ]
     },
     "execution_count": 3,
     "metadata": {},
     "output_type": "execute_result"
    }
   ],
   "source": [
    "data.head()"
   ]
  },
  {
   "cell_type": "code",
   "execution_count": 4,
   "metadata": {
    "execution": {
     "iopub.execute_input": "2024-05-06T14:37:19.648799Z",
     "iopub.status.busy": "2024-05-06T14:37:19.648505Z",
     "iopub.status.idle": "2024-05-06T14:37:19.654667Z",
     "shell.execute_reply": "2024-05-06T14:37:19.653734Z",
     "shell.execute_reply.started": "2024-05-06T14:37:19.648775Z"
    }
   },
   "outputs": [
    {
     "data": {
      "text/plain": [
       "(19996, 2)"
      ]
     },
     "execution_count": 4,
     "metadata": {},
     "output_type": "execute_result"
    }
   ],
   "source": [
    "data.shape"
   ]
  },
  {
   "cell_type": "markdown",
   "metadata": {},
   "source": [
    "\n",
    "\n",
    "<p style=\"font-size: 17px;\">We have there are 19996 rows and 2 columns present in our datasets.</p>\n"
   ]
  },
  {
   "cell_type": "code",
   "execution_count": 5,
   "metadata": {
    "execution": {
     "iopub.execute_input": "2024-05-06T14:37:19.656730Z",
     "iopub.status.busy": "2024-05-06T14:37:19.655993Z",
     "iopub.status.idle": "2024-05-06T14:37:19.677153Z",
     "shell.execute_reply": "2024-05-06T14:37:19.676335Z",
     "shell.execute_reply.started": "2024-05-06T14:37:19.656698Z"
    }
   },
   "outputs": [
    {
     "data": {
      "text/html": [
       "<div>\n",
       "<style scoped>\n",
       "    .dataframe tbody tr th:only-of-type {\n",
       "        vertical-align: middle;\n",
       "    }\n",
       "\n",
       "    .dataframe tbody tr th {\n",
       "        vertical-align: top;\n",
       "    }\n",
       "\n",
       "    .dataframe thead th {\n",
       "        text-align: right;\n",
       "    }\n",
       "</style>\n",
       "<table border=\"1\" class=\"dataframe\">\n",
       "  <thead>\n",
       "    <tr style=\"text-align: right;\">\n",
       "      <th></th>\n",
       "      <th>label</th>\n",
       "    </tr>\n",
       "  </thead>\n",
       "  <tbody>\n",
       "    <tr>\n",
       "      <th>count</th>\n",
       "      <td>19996.000000</td>\n",
       "    </tr>\n",
       "    <tr>\n",
       "      <th>mean</th>\n",
       "      <td>0.761652</td>\n",
       "    </tr>\n",
       "    <tr>\n",
       "      <th>std</th>\n",
       "      <td>0.426083</td>\n",
       "    </tr>\n",
       "    <tr>\n",
       "      <th>min</th>\n",
       "      <td>0.000000</td>\n",
       "    </tr>\n",
       "    <tr>\n",
       "      <th>25%</th>\n",
       "      <td>1.000000</td>\n",
       "    </tr>\n",
       "    <tr>\n",
       "      <th>50%</th>\n",
       "      <td>1.000000</td>\n",
       "    </tr>\n",
       "    <tr>\n",
       "      <th>75%</th>\n",
       "      <td>1.000000</td>\n",
       "    </tr>\n",
       "    <tr>\n",
       "      <th>max</th>\n",
       "      <td>1.000000</td>\n",
       "    </tr>\n",
       "  </tbody>\n",
       "</table>\n",
       "</div>"
      ],
      "text/plain": [
       "              label\n",
       "count  19996.000000\n",
       "mean       0.761652\n",
       "std        0.426083\n",
       "min        0.000000\n",
       "25%        1.000000\n",
       "50%        1.000000\n",
       "75%        1.000000\n",
       "max        1.000000"
      ]
     },
     "execution_count": 5,
     "metadata": {},
     "output_type": "execute_result"
    }
   ],
   "source": [
    "data.describe()"
   ]
  },
  {
   "cell_type": "code",
   "execution_count": 6,
   "metadata": {
    "execution": {
     "iopub.execute_input": "2024-05-06T14:37:19.678596Z",
     "iopub.status.busy": "2024-05-06T14:37:19.678304Z",
     "iopub.status.idle": "2024-05-06T14:37:19.688063Z",
     "shell.execute_reply": "2024-05-06T14:37:19.687050Z",
     "shell.execute_reply.started": "2024-05-06T14:37:19.678573Z"
    }
   },
   "outputs": [
    {
     "data": {
      "text/plain": [
       "Text     0\n",
       "label    0\n",
       "dtype: int64"
      ]
     },
     "execution_count": 6,
     "metadata": {},
     "output_type": "execute_result"
    }
   ],
   "source": [
    "# Check nulll values\n",
    "data.isnull().sum()"
   ]
  },
  {
   "cell_type": "markdown",
   "metadata": {},
   "source": [
    "<p style=\"font-size: 17px;\">No null values in our dataset</p>"
   ]
  },
  {
   "cell_type": "code",
   "execution_count": 7,
   "metadata": {
    "execution": {
     "iopub.execute_input": "2024-05-06T14:37:19.689490Z",
     "iopub.status.busy": "2024-05-06T14:37:19.689208Z",
     "iopub.status.idle": "2024-05-06T14:37:19.711518Z",
     "shell.execute_reply": "2024-05-06T14:37:19.710719Z",
     "shell.execute_reply.started": "2024-05-06T14:37:19.689467Z"
    }
   },
   "outputs": [
    {
     "data": {
      "text/plain": [
       "0"
      ]
     },
     "execution_count": 7,
     "metadata": {},
     "output_type": "execute_result"
    }
   ],
   "source": [
    "# Check duplicate values \n",
    "data.duplicated().sum()"
   ]
  },
  {
   "cell_type": "markdown",
   "metadata": {},
   "source": [
    "<p style=\"font-size: 20px;\">No duplicated values in our dataset.</p>"
   ]
  },
  {
   "cell_type": "markdown",
   "metadata": {},
   "source": [
    "## Exploratory data Analysis"
   ]
  },
  {
   "cell_type": "code",
   "execution_count": 8,
   "metadata": {
    "execution": {
     "iopub.execute_input": "2024-05-06T14:37:19.712790Z",
     "iopub.status.busy": "2024-05-06T14:37:19.712513Z",
     "iopub.status.idle": "2024-05-06T14:37:19.981068Z",
     "shell.execute_reply": "2024-05-06T14:37:19.980189Z",
     "shell.execute_reply.started": "2024-05-06T14:37:19.712767Z"
    }
   },
   "outputs": [
    {
     "data": {
      "image/png": "[encoded data removed]",
      "text/plain": [
       "<Figure size 640x480 with 1 Axes>"
      ]
     },
     "metadata": {},
     "output_type": "display_data"
    }
   ],
   "source": [
    "sns.countplot(data, x='label')\n",
    "\n",
    "plt.ylabel('Count')\n",
    "plt.title('Value Counts of label Column')\n",
    "\n",
    "# Show the plot\n",
    "plt.show()"
   ]
  },
  {
   "cell_type": "markdown",
   "metadata": {},
   "source": [
    "We can see that our data is imbalanced"
   ]
  },
  {
   "cell_type": "code",
   "execution_count": 9,
   "metadata": {
    "execution": {
     "iopub.execute_input": "2024-05-06T14:37:19.984626Z",
     "iopub.status.busy": "2024-05-06T14:37:19.984344Z",
     "iopub.status.idle": "2024-05-06T14:37:20.003074Z",
     "shell.execute_reply": "2024-05-06T14:37:20.002248Z",
     "shell.execute_reply.started": "2024-05-06T14:37:19.984603Z"
    }
   },
   "outputs": [],
   "source": [
    "# Number of characters\n",
    "data['num_characters'] = data['Text'].apply(len)"
   ]
  },
  {
   "cell_type": "code",
   "execution_count": 10,
   "metadata": {
    "execution": {
     "iopub.execute_input": "2024-05-06T14:37:20.004422Z",
     "iopub.status.busy": "2024-05-06T14:37:20.004169Z",
     "iopub.status.idle": "2024-05-06T14:37:30.865302Z",
     "shell.execute_reply": "2024-05-06T14:37:30.864485Z",
     "shell.execute_reply.started": "2024-05-06T14:37:20.004386Z"
    }
   },
   "outputs": [],
   "source": [
    "#Number Of words\n",
    "data['num_words'] = data['Text'].apply(lambda x:len(nltk.word_tokenize(x)))"
   ]
  },
  {
   "cell_type": "code",
   "execution_count": 11,
   "metadata": {
    "execution": {
     "iopub.execute_input": "2024-05-06T14:37:30.866805Z",
     "iopub.status.busy": "2024-05-06T14:37:30.866477Z",
     "iopub.status.idle": "2024-05-06T14:37:33.122076Z",
     "shell.execute_reply": "2024-05-06T14:37:33.120997Z",
     "shell.execute_reply.started": "2024-05-06T14:37:30.866779Z"
    }
   },
   "outputs": [],
   "source": [
    "# Number of senteances\n",
    "data['num_sentances'] = data['Text'].apply(lambda x:len(nltk.sent_tokenize(x)))"
   ]
  },
  {
   "cell_type": "code",
   "execution_count": 12,
   "metadata": {
    "execution": {
     "iopub.execute_input": "2024-05-06T14:37:33.123666Z",
     "iopub.status.busy": "2024-05-06T14:37:33.123370Z",
     "iopub.status.idle": "2024-05-06T14:37:33.147812Z",
     "shell.execute_reply": "2024-05-06T14:37:33.146901Z",
     "shell.execute_reply.started": "2024-05-06T14:37:33.123641Z"
    }
   },
   "outputs": [
    {
     "data": {
      "text/html": [
       "<div>\n",
       "<style scoped>\n",
       "    .dataframe tbody tr th:only-of-type {\n",
       "        vertical-align: middle;\n",
       "    }\n",
       "\n",
       "    .dataframe tbody tr th {\n",
       "        vertical-align: top;\n",
       "    }\n",
       "\n",
       "    .dataframe thead th {\n",
       "        text-align: right;\n",
       "    }\n",
       "</style>\n",
       "<table border=\"1\" class=\"dataframe\">\n",
       "  <thead>\n",
       "    <tr style=\"text-align: right;\">\n",
       "      <th></th>\n",
       "      <th>num_characters</th>\n",
       "      <th>num_words</th>\n",
       "      <th>num_sentances</th>\n",
       "    </tr>\n",
       "  </thead>\n",
       "  <tbody>\n",
       "    <tr>\n",
       "      <th>count</th>\n",
       "      <td>19996.000000</td>\n",
       "      <td>19996.000000</td>\n",
       "      <td>19996.00000</td>\n",
       "    </tr>\n",
       "    <tr>\n",
       "      <th>mean</th>\n",
       "      <td>175.787257</td>\n",
       "      <td>39.009852</td>\n",
       "      <td>2.94774</td>\n",
       "    </tr>\n",
       "    <tr>\n",
       "      <th>std</th>\n",
       "      <td>58.964840</td>\n",
       "      <td>12.895655</td>\n",
       "      <td>1.41114</td>\n",
       "    </tr>\n",
       "    <tr>\n",
       "      <th>min</th>\n",
       "      <td>3.000000</td>\n",
       "      <td>1.000000</td>\n",
       "      <td>1.00000</td>\n",
       "    </tr>\n",
       "    <tr>\n",
       "      <th>25%</th>\n",
       "      <td>123.000000</td>\n",
       "      <td>27.000000</td>\n",
       "      <td>2.00000</td>\n",
       "    </tr>\n",
       "    <tr>\n",
       "      <th>50%</th>\n",
       "      <td>164.000000</td>\n",
       "      <td>37.000000</td>\n",
       "      <td>3.00000</td>\n",
       "    </tr>\n",
       "    <tr>\n",
       "      <th>75%</th>\n",
       "      <td>254.000000</td>\n",
       "      <td>51.000000</td>\n",
       "      <td>4.00000</td>\n",
       "    </tr>\n",
       "    <tr>\n",
       "      <th>max</th>\n",
       "      <td>254.000000</td>\n",
       "      <td>123.000000</td>\n",
       "      <td>37.00000</td>\n",
       "    </tr>\n",
       "  </tbody>\n",
       "</table>\n",
       "</div>"
      ],
      "text/plain": [
       "       num_characters     num_words  num_sentances\n",
       "count    19996.000000  19996.000000    19996.00000\n",
       "mean       175.787257     39.009852        2.94774\n",
       "std         58.964840     12.895655        1.41114\n",
       "min          3.000000      1.000000        1.00000\n",
       "25%        123.000000     27.000000        2.00000\n",
       "50%        164.000000     37.000000        3.00000\n",
       "75%        254.000000     51.000000        4.00000\n",
       "max        254.000000    123.000000       37.00000"
      ]
     },
     "execution_count": 12,
     "metadata": {},
     "output_type": "execute_result"
    }
   ],
   "source": [
    "# Number of characters\n",
    "data[['num_characters','num_words','num_sentances']].describe()"
   ]
  },
  {
   "cell_type": "code",
   "execution_count": 13,
   "metadata": {
    "execution": {
     "iopub.execute_input": "2024-05-06T14:37:33.149425Z",
     "iopub.status.busy": "2024-05-06T14:37:33.149032Z",
     "iopub.status.idle": "2024-05-06T14:37:33.174566Z",
     "shell.execute_reply": "2024-05-06T14:37:33.173714Z",
     "shell.execute_reply.started": "2024-05-06T14:37:33.149387Z"
    }
   },
   "outputs": [
    {
     "data": {
      "text/html": [
       "<div>\n",
       "<style scoped>\n",
       "    .dataframe tbody tr th:only-of-type {\n",
       "        vertical-align: middle;\n",
       "    }\n",
       "\n",
       "    .dataframe tbody tr th {\n",
       "        vertical-align: top;\n",
       "    }\n",
       "\n",
       "    .dataframe thead th {\n",
       "        text-align: right;\n",
       "    }\n",
       "</style>\n",
       "<table border=\"1\" class=\"dataframe\">\n",
       "  <thead>\n",
       "    <tr style=\"text-align: right;\">\n",
       "      <th></th>\n",
       "      <th>num_characters</th>\n",
       "      <th>num_words</th>\n",
       "      <th>num_sentances</th>\n",
       "    </tr>\n",
       "  </thead>\n",
       "  <tbody>\n",
       "    <tr>\n",
       "      <th>count</th>\n",
       "      <td>15230.000000</td>\n",
       "      <td>15230.000000</td>\n",
       "      <td>15230.000000</td>\n",
       "    </tr>\n",
       "    <tr>\n",
       "      <th>mean</th>\n",
       "      <td>176.880105</td>\n",
       "      <td>39.107091</td>\n",
       "      <td>2.969074</td>\n",
       "    </tr>\n",
       "    <tr>\n",
       "      <th>std</th>\n",
       "      <td>59.203402</td>\n",
       "      <td>12.930085</td>\n",
       "      <td>1.404112</td>\n",
       "    </tr>\n",
       "    <tr>\n",
       "      <th>min</th>\n",
       "      <td>3.000000</td>\n",
       "      <td>1.000000</td>\n",
       "      <td>1.000000</td>\n",
       "    </tr>\n",
       "    <tr>\n",
       "      <th>25%</th>\n",
       "      <td>123.000000</td>\n",
       "      <td>27.000000</td>\n",
       "      <td>2.000000</td>\n",
       "    </tr>\n",
       "    <tr>\n",
       "      <th>50%</th>\n",
       "      <td>165.000000</td>\n",
       "      <td>37.000000</td>\n",
       "      <td>3.000000</td>\n",
       "    </tr>\n",
       "    <tr>\n",
       "      <th>75%</th>\n",
       "      <td>254.000000</td>\n",
       "      <td>52.000000</td>\n",
       "      <td>4.000000</td>\n",
       "    </tr>\n",
       "    <tr>\n",
       "      <th>max</th>\n",
       "      <td>254.000000</td>\n",
       "      <td>110.000000</td>\n",
       "      <td>37.000000</td>\n",
       "    </tr>\n",
       "  </tbody>\n",
       "</table>\n",
       "</div>"
      ],
      "text/plain": [
       "       num_characters     num_words  num_sentances\n",
       "count    15230.000000  15230.000000   15230.000000\n",
       "mean       176.880105     39.107091       2.969074\n",
       "std         59.203402     12.930085       1.404112\n",
       "min          3.000000      1.000000       1.000000\n",
       "25%        123.000000     27.000000       2.000000\n",
       "50%        165.000000     37.000000       3.000000\n",
       "75%        254.000000     52.000000       4.000000\n",
       "max        254.000000    110.000000      37.000000"
      ]
     },
     "execution_count": 13,
     "metadata": {},
     "output_type": "execute_result"
    }
   ],
   "source": [
    "data[data['label']==1][['num_characters','num_words','num_sentances']].describe()"
   ]
  },
  {
   "cell_type": "code",
   "execution_count": 14,
   "metadata": {
    "execution": {
     "iopub.execute_input": "2024-05-06T14:37:33.175986Z",
     "iopub.status.busy": "2024-05-06T14:37:33.175650Z",
     "iopub.status.idle": "2024-05-06T14:37:33.198301Z",
     "shell.execute_reply": "2024-05-06T14:37:33.197652Z",
     "shell.execute_reply.started": "2024-05-06T14:37:33.175961Z"
    }
   },
   "outputs": [
    {
     "data": {
      "text/html": [
       "<div>\n",
       "<style scoped>\n",
       "    .dataframe tbody tr th:only-of-type {\n",
       "        vertical-align: middle;\n",
       "    }\n",
       "\n",
       "    .dataframe tbody tr th {\n",
       "        vertical-align: top;\n",
       "    }\n",
       "\n",
       "    .dataframe thead th {\n",
       "        text-align: right;\n",
       "    }\n",
       "</style>\n",
       "<table border=\"1\" class=\"dataframe\">\n",
       "  <thead>\n",
       "    <tr style=\"text-align: right;\">\n",
       "      <th></th>\n",
       "      <th>num_characters</th>\n",
       "      <th>num_words</th>\n",
       "      <th>num_sentances</th>\n",
       "    </tr>\n",
       "  </thead>\n",
       "  <tbody>\n",
       "    <tr>\n",
       "      <th>count</th>\n",
       "      <td>4766.000000</td>\n",
       "      <td>4766.000000</td>\n",
       "      <td>4766.000000</td>\n",
       "    </tr>\n",
       "    <tr>\n",
       "      <th>mean</th>\n",
       "      <td>172.295006</td>\n",
       "      <td>38.699119</td>\n",
       "      <td>2.879564</td>\n",
       "    </tr>\n",
       "    <tr>\n",
       "      <th>std</th>\n",
       "      <td>58.064355</td>\n",
       "      <td>12.781402</td>\n",
       "      <td>1.431388</td>\n",
       "    </tr>\n",
       "    <tr>\n",
       "      <th>min</th>\n",
       "      <td>4.000000</td>\n",
       "      <td>1.000000</td>\n",
       "      <td>1.000000</td>\n",
       "    </tr>\n",
       "    <tr>\n",
       "      <th>25%</th>\n",
       "      <td>121.000000</td>\n",
       "      <td>28.000000</td>\n",
       "      <td>2.000000</td>\n",
       "    </tr>\n",
       "    <tr>\n",
       "      <th>50%</th>\n",
       "      <td>159.000000</td>\n",
       "      <td>36.000000</td>\n",
       "      <td>3.000000</td>\n",
       "    </tr>\n",
       "    <tr>\n",
       "      <th>75%</th>\n",
       "      <td>239.000000</td>\n",
       "      <td>50.000000</td>\n",
       "      <td>4.000000</td>\n",
       "    </tr>\n",
       "    <tr>\n",
       "      <th>max</th>\n",
       "      <td>254.000000</td>\n",
       "      <td>123.000000</td>\n",
       "      <td>20.000000</td>\n",
       "    </tr>\n",
       "  </tbody>\n",
       "</table>\n",
       "</div>"
      ],
      "text/plain": [
       "       num_characters    num_words  num_sentances\n",
       "count     4766.000000  4766.000000    4766.000000\n",
       "mean       172.295006    38.699119       2.879564\n",
       "std         58.064355    12.781402       1.431388\n",
       "min          4.000000     1.000000       1.000000\n",
       "25%        121.000000    28.000000       2.000000\n",
       "50%        159.000000    36.000000       3.000000\n",
       "75%        239.000000    50.000000       4.000000\n",
       "max        254.000000   123.000000      20.000000"
      ]
     },
     "execution_count": 14,
     "metadata": {},
     "output_type": "execute_result"
    }
   ],
   "source": [
    "data[data['label']==0][['num_characters','num_words','num_sentances']].describe()"
   ]
  },
  {
   "cell_type": "code",
   "execution_count": null,
   "metadata": {
    "execution": {
     "iopub.execute_input": "2024-05-06T14:37:33.199562Z",
     "iopub.status.busy": "2024-05-06T14:37:33.199296Z",
     "iopub.status.idle": "2024-05-06T14:37:47.101372Z",
     "shell.execute_reply": "2024-05-06T14:37:47.100373Z",
     "shell.execute_reply.started": "2024-05-06T14:37:33.199540Z"
    }
   },
   "outputs": [],
   "source": [
    "sns.pairplot(data, hue='label')"
   ]
  },
  {
   "cell_type": "code",
   "execution_count": null,
   "metadata": {
    "execution": {
     "iopub.execute_input": "2024-05-06T14:37:47.103273Z",
     "iopub.status.busy": "2024-05-06T14:37:47.102991Z",
     "iopub.status.idle": "2024-05-06T14:37:47.110950Z",
     "shell.execute_reply": "2024-05-06T14:37:47.109938Z",
     "shell.execute_reply.started": "2024-05-06T14:37:47.103248Z"
    }
   },
   "outputs": [],
   "source": [
    "numeric_df = data.select_dtypes(include='number')\n",
    "correlation_matrix = numeric_df.corr()\n"
   ]
  },
  {
   "cell_type": "code",
   "execution_count": null,
   "metadata": {
    "execution": {
     "iopub.execute_input": "2024-05-06T14:37:47.112341Z",
     "iopub.status.busy": "2024-05-06T14:37:47.112015Z",
     "iopub.status.idle": "2024-05-06T14:37:47.481101Z",
     "shell.execute_reply": "2024-05-06T14:37:47.480107Z",
     "shell.execute_reply.started": "2024-05-06T14:37:47.112316Z"
    }
   },
   "outputs": [],
   "source": [
    "sns.heatmap(correlation_matrix, annot=True)"
   ]
  },
  {
   "cell_type": "markdown",
   "metadata": {},
   "source": [
    "<p style=\"font-size: 17px;\">We can see that num of words and number of character is highly correlation.</p>"
   ]
  },
  {
   "cell_type": "markdown",
   "metadata": {},
   "source": [
    "**Data Preprocessing**\n",
    "* Lower case\n",
    "* Tokenization\n",
    "* Removing special characters\n",
    "* Removing stop words and punctuation\n",
    "* Steming"
   ]
  },
  {
   "cell_type": "code",
   "execution_count": null,
   "metadata": {
    "execution": {
     "iopub.execute_input": "2024-05-06T14:37:47.482953Z",
     "iopub.status.busy": "2024-05-06T14:37:47.482535Z",
     "iopub.status.idle": "2024-05-06T14:37:47.490648Z",
     "shell.execute_reply": "2024-05-06T14:37:47.489488Z",
     "shell.execute_reply.started": "2024-05-06T14:37:47.482918Z"
    }
   },
   "outputs": [],
   "source": [
    "import nltk\n",
    "from nltk.corpus import stopwords\n",
    "import string\n",
    "from nltk.stem.porter import PorterStemmer\n",
    "\n",
    "def transform_text(text):\n",
    "    text = text.lower()\n",
    "    text = nltk.word_tokenize(text)\n",
    "    \n",
    "    result = []\n",
    "    for word in text:\n",
    "        # Check if the word is alphanumeric and not in stopwords and not in string.punctuation\n",
    "        if word.isalnum() and word not in stopwords.words('english') and word not in string.punctuation:\n",
    "            result.append(word)\n",
    "    \n",
    "    stemmer = PorterStemmer()\n",
    "    result = [stemmer.stem(word) for word in result]\n",
    "    return \" \".join(result)"
   ]
  },
  {
   "cell_type": "code",
   "execution_count": null,
   "metadata": {
    "execution": {
     "iopub.execute_input": "2024-05-06T14:37:47.492461Z",
     "iopub.status.busy": "2024-05-06T14:37:47.491912Z",
     "iopub.status.idle": "2024-05-06T14:39:35.124823Z",
     "shell.execute_reply": "2024-05-06T14:39:35.123926Z",
     "shell.execute_reply.started": "2024-05-06T14:37:47.492435Z"
    }
   },
   "outputs": [],
   "source": [
    "data['transformed_text'] = data['Text'].apply(transform_text)"
   ]
  },
  {
   "cell_type": "code",
   "execution_count": null,
   "metadata": {
    "execution": {
     "iopub.execute_input": "2024-05-06T14:39:35.126197Z",
     "iopub.status.busy": "2024-05-06T14:39:35.125910Z",
     "iopub.status.idle": "2024-05-06T14:39:38.949455Z",
     "shell.execute_reply": "2024-05-06T14:39:38.948525Z",
     "shell.execute_reply.started": "2024-05-06T14:39:35.126173Z"
    }
   },
   "outputs": [],
   "source": [
    "from wordcloud import WordCloud\n",
    "wc = WordCloud(width=1000, height=600, min_font_size=10, background_color='black')\n",
    "\n",
    "spam_wc = wc.generate(data[data['label'] == 1]['transformed_text'].str.cat(sep = \" \"))\n",
    "\n",
    "plt.figure(figsize=(10, 10))\n",
    "plt.imshow(spam_wc)"
   ]
  },
  {
   "cell_type": "code",
   "execution_count": null,
   "metadata": {
    "execution": {
     "iopub.execute_input": "2024-05-06T14:39:38.951417Z",
     "iopub.status.busy": "2024-05-06T14:39:38.950889Z",
     "iopub.status.idle": "2024-05-06T14:39:41.250430Z",
     "shell.execute_reply": "2024-05-06T14:39:41.249525Z",
     "shell.execute_reply.started": "2024-05-06T14:39:38.951384Z"
    }
   },
   "outputs": [],
   "source": [
    "ham_wc = wc.generate(data[data['label'] == 0]['transformed_text'].str.cat(sep = \" \"))\n",
    "plt.figure(figsize=(10, 10))\n",
    "plt.imshow(spam_wc)"
   ]
  },
  {
   "cell_type": "code",
   "execution_count": null,
   "metadata": {
    "execution": {
     "iopub.execute_input": "2024-05-06T14:39:41.252087Z",
     "iopub.status.busy": "2024-05-06T14:39:41.251755Z",
     "iopub.status.idle": "2024-05-06T14:39:41.257333Z",
     "shell.execute_reply": "2024-05-06T14:39:41.256515Z",
     "shell.execute_reply.started": "2024-05-06T14:39:41.252060Z"
    }
   },
   "outputs": [],
   "source": [
    "from sklearn.feature_extraction.text import CountVectorizer, TfidfVectorizer\n",
    "cv = CountVectorizer()\n",
    "tfidf =TfidfVectorizer()"
   ]
  },
  {
   "cell_type": "code",
   "execution_count": null,
   "metadata": {
    "execution": {
     "iopub.execute_input": "2024-05-06T14:39:41.258850Z",
     "iopub.status.busy": "2024-05-06T14:39:41.258518Z",
     "iopub.status.idle": "2024-05-06T14:39:42.818233Z",
     "shell.execute_reply": "2024-05-06T14:39:42.817377Z",
     "shell.execute_reply.started": "2024-05-06T14:39:41.258823Z"
    }
   },
   "outputs": [],
   "source": [
    "X = tfidf.fit_transform(data['transformed_text']).toarray()"
   ]
  },
  {
   "cell_type": "code",
   "execution_count": null,
   "metadata": {
    "execution": {
     "iopub.execute_input": "2024-05-06T14:39:42.819608Z",
     "iopub.status.busy": "2024-05-06T14:39:42.819325Z",
     "iopub.status.idle": "2024-05-06T14:39:42.826483Z",
     "shell.execute_reply": "2024-05-06T14:39:42.825555Z",
     "shell.execute_reply.started": "2024-05-06T14:39:42.819585Z"
    }
   },
   "outputs": [],
   "source": [
    "X.shape"
   ]
  },
  {
   "cell_type": "code",
   "execution_count": null,
   "metadata": {
    "execution": {
     "iopub.execute_input": "2024-05-06T14:39:42.828190Z",
     "iopub.status.busy": "2024-05-06T14:39:42.827782Z",
     "iopub.status.idle": "2024-05-06T14:39:42.834428Z",
     "shell.execute_reply": "2024-05-06T14:39:42.833535Z",
     "shell.execute_reply.started": "2024-05-06T14:39:42.828165Z"
    }
   },
   "outputs": [],
   "source": [
    "y= data['label']"
   ]
  },
  {
   "cell_type": "code",
   "execution_count": null,
   "metadata": {
    "execution": {
     "iopub.execute_input": "2024-05-06T14:39:42.835764Z",
     "iopub.status.busy": "2024-05-06T14:39:42.835472Z",
     "iopub.status.idle": "2024-05-06T14:39:43.814561Z",
     "shell.execute_reply": "2024-05-06T14:39:43.813736Z",
     "shell.execute_reply.started": "2024-05-06T14:39:42.835742Z"
    }
   },
   "outputs": [],
   "source": [
    "from sklearn.model_selection import train_test_split\n",
    "X_train, X_test, y_train, y_test = train_test_split(X, y,test_size=0.2, random_state=2)"
   ]
  },
  {
   "cell_type": "code",
   "execution_count": null,
   "metadata": {
    "execution": {
     "iopub.execute_input": "2024-05-06T14:39:43.819395Z",
     "iopub.status.busy": "2024-05-06T14:39:43.819100Z",
     "iopub.status.idle": "2024-05-06T14:41:18.431168Z",
     "shell.execute_reply": "2024-05-06T14:41:18.430005Z",
     "shell.execute_reply.started": "2024-05-06T14:39:43.819371Z"
    }
   },
   "outputs": [],
   "source": [
    "from sklearn.ensemble import RandomForestClassifier\n",
    "from sklearn.metrics import accuracy_score, confusion_matrix, precision_score\n",
    "\n",
    "rf = RandomForestClassifier()\n",
    "rf.fit(X_train, y_train)\n",
    "\n",
    "y_pred45 = rf.predict(X_test)  \n",
    "print(\"Accuracy:\", accuracy_score(y_test, y_pred45))\n",
    "print(\"Confusion Matrix:\\n\", confusion_matrix(y_test, y_pred45))\n",
    "print(\"Precision Score:\", precision_score(y_test, y_pred45))"
   ]
  },
  {
   "cell_type": "code",
   "execution_count": null,
   "metadata": {
    "execution": {
     "iopub.execute_input": "2024-05-06T14:41:18.432891Z",
     "iopub.status.busy": "2024-05-06T14:41:18.432501Z",
     "iopub.status.idle": "2024-05-06T14:41:18.440073Z",
     "shell.execute_reply": "2024-05-06T14:41:18.439093Z",
     "shell.execute_reply.started": "2024-05-06T14:41:18.432856Z"
    }
   },
   "outputs": [],
   "source": [
    "cm = confusion_matrix(y_test, y_pred45)"
   ]
  },
  {
   "cell_type": "code",
   "execution_count": null,
   "metadata": {
    "execution": {
     "iopub.execute_input": "2024-05-06T14:41:18.441995Z",
     "iopub.status.busy": "2024-05-06T14:41:18.441485Z",
     "iopub.status.idle": "2024-05-06T14:41:18.719799Z",
     "shell.execute_reply": "2024-05-06T14:41:18.718858Z",
     "shell.execute_reply.started": "2024-05-06T14:41:18.441965Z"
    }
   },
   "outputs": [],
   "source": [
    "sns.heatmap(cm, annot=True, fmt='d', cmap='Blues')\n",
    "\n",
    "plt.xlabel('Predicted labels')\n",
    "plt.ylabel('True labels')\n",
    "plt.title('Confusion Matrix')\n",
    "\n",
    "\n",
    "plt.show()\n"
   ]
  },
  {
   "cell_type": "code",
   "execution_count": null,
   "metadata": {
    "execution": {
     "iopub.execute_input": "2024-05-06T14:41:18.721187Z",
     "iopub.status.busy": "2024-05-06T14:41:18.720914Z",
     "iopub.status.idle": "2024-05-06T14:41:50.152910Z",
     "shell.execute_reply": "2024-05-06T14:41:50.151910Z",
     "shell.execute_reply.started": "2024-05-06T14:41:18.721163Z"
    }
   },
   "outputs": [],
   "source": [
    "import tensorflow as tf\n",
    "from tensorflow.keras.models import Sequential\n",
    "from tensorflow.keras.layers import Dense, Dropout\n",
    "from tensorflow.keras.callbacks import EarlyStopping\n",
    "\n",
    "# Define the model\n",
    "model = Sequential([\n",
    "    Dense(128, activation='relu', input_shape=(X_train.shape[1],)),\n",
    "    Dropout(0.5),  # Dropout layer with 20% dropout rate\n",
    "    Dense(32, activation='relu'),\n",
    "    Dropout(0.5),  # Dropout layer with 20% dropout rate\n",
    "    Dense(1, activation='sigmoid')\n",
    "])\n",
    "\n",
    "# Compile the model\n",
    "model.compile(optimizer='adam',\n",
    "              loss='binary_crossentropy',\n",
    "              metrics=['accuracy'])\n",
    "\n",
    "# Define early stopping\n",
    "early_stopping = EarlyStopping(monitor='val_loss', patience=3)\n",
    "\n",
    "# Train the model with early stopping\n",
    "history = model.fit(X_train, y_train, epochs=5, batch_size=64, \n",
    "                    validation_data=(X_test, y_test), callbacks=[early_stopping])\n",
    "\n",
    "# Evaluate the model\n",
    "loss, accuracy = model.evaluate(X_test, y_test)\n",
    "print('Test Accuracy:', accuracy)\n"
   ]
  },
  {
   "cell_type": "code",
   "execution_count": null,
   "metadata": {
    "execution": {
     "iopub.execute_input": "2024-05-06T14:41:50.154768Z",
     "iopub.status.busy": "2024-05-06T14:41:50.154153Z",
     "iopub.status.idle": "2024-05-06T14:41:50.487624Z",
     "shell.execute_reply": "2024-05-06T14:41:50.486800Z",
     "shell.execute_reply.started": "2024-05-06T14:41:50.154741Z"
    }
   },
   "outputs": [],
   "source": [
    "# Plot training and validation accuracy\n",
    "plt.plot(history.history['accuracy'], label='Training Accuracy')\n",
    "plt.plot(history.history['val_accuracy'], label='Validation Accuracy')\n",
    "plt.xlabel('Epoch')\n",
    "plt.ylabel('Accuracy')\n",
    "plt.title('Training and Validation Accuracy')\n",
    "plt.legend()\n",
    "plt.show()"
   ]
  },
  {
   "cell_type": "code",
   "execution_count": null,
   "metadata": {},
   "outputs": [],
   "source": []
  },
  {
   "cell_type": "code",
   "execution_count": null,
   "metadata": {},
   "outputs": [],
   "source": []
  },
  {
   "cell_type": "code",
   "execution_count": null,
   "metadata": {},
   "outputs": [],
   "source": []
  }
 ],
 "metadata": {
  "kaggle": {
   "accelerator": "nvidiaTeslaT4",
   "dataSources": [
    {
     "datasetId": 4755091,
     "sourceId": 8061171,
     "sourceType": "datasetVersion"
    }
   ],
   "dockerImageVersionId": 30698,
   "isGpuEnabled": true,
   "isInternetEnabled": true,
   "language": "python",
   "sourceType": "notebook"
  },
  "kernelspec": {
   "display_name": "Python 3 (ipykernel)",
   "language": "python",
   "name": "python3"
  },
  "language_info": {
   "codemirror_mode": {
    "name": "ipython",
    "version": 3
   },
   "file_extension": ".py",
   "mimetype": "text/x-python",
   "name": "python",
   "nbconvert_exporter": "python",
   "pygments_lexer": "ipython3",
   "version": "3.11.5"
  }
 },
 "nbformat": 4,
 "nbformat_minor": 4
}
